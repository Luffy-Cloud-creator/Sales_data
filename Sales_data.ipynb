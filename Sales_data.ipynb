{
  "nbformat": 4,
  "nbformat_minor": 0,
  "metadata": {
    "colab": {
      "provenance": []
    },
    "kernelspec": {
      "name": "python3",
      "display_name": "Python 3"
    },
    "language_info": {
      "name": "python"
    }
  },
  "cells": [
    {
      "cell_type": "markdown",
      "source": [
        "# **AMAZON SALE** **DATA**"
      ],
      "metadata": {
        "id": "GQkSlFHtcF8T"
      }
    },
    {
      "cell_type": "code",
      "execution_count": null,
      "metadata": {
        "colab": {
          "base_uri": "https://localhost:8080/"
        },
        "id": "B317T2hmUL6h",
        "outputId": "88fe9152-9569-4c1e-9a39-1211bae7c8fb"
      },
      "outputs": [
        {
          "output_type": "stream",
          "name": "stdout",
          "text": [
            "Requirement already satisfied: pyspark in /usr/local/lib/python3.11/dist-packages (3.5.1)\n",
            "Requirement already satisfied: py4j==0.10.9.7 in /usr/local/lib/python3.11/dist-packages (from pyspark) (0.10.9.7)\n"
          ]
        }
      ],
      "source": [
        "!pip install pyspark"
      ]
    },
    {
      "cell_type": "code",
      "source": [
        "import pyspark"
      ],
      "metadata": {
        "id": "YhpgDa6PUy7r"
      },
      "execution_count": null,
      "outputs": []
    },
    {
      "cell_type": "code",
      "source": [
        "from pyspark.sql import SparkSession\n",
        "from pyspark.sql.functions import*\n",
        "from pyspark.sql.types import*"
      ],
      "metadata": {
        "id": "UtdMD-WOWiKH"
      },
      "execution_count": null,
      "outputs": []
    },
    {
      "cell_type": "code",
      "source": [
        "spark=SparkSession.builder.appName(\"Dataframe\").getOrCreate()"
      ],
      "metadata": {
        "id": "ZcFeCpVFWpja"
      },
      "execution_count": null,
      "outputs": []
    },
    {
      "cell_type": "code",
      "source": [
        "spark"
      ],
      "metadata": {
        "colab": {
          "base_uri": "https://localhost:8080/",
          "height": 219
        },
        "id": "fyyq2q_sXvZd",
        "outputId": "ec90568f-b9a4-48e3-f1bc-682b03752ea7"
      },
      "execution_count": null,
      "outputs": [
        {
          "output_type": "execute_result",
          "data": {
            "text/plain": [
              "<pyspark.sql.session.SparkSession at 0x78e9277a5890>"
            ],
            "text/html": [
              "\n",
              "            <div>\n",
              "                <p><b>SparkSession - in-memory</b></p>\n",
              "                \n",
              "        <div>\n",
              "            <p><b>SparkContext</b></p>\n",
              "\n",
              "            <p><a href=\"http://5214421a6ba0:4040\">Spark UI</a></p>\n",
              "\n",
              "            <dl>\n",
              "              <dt>Version</dt>\n",
              "                <dd><code>v3.5.1</code></dd>\n",
              "              <dt>Master</dt>\n",
              "                <dd><code>local[*]</code></dd>\n",
              "              <dt>AppName</dt>\n",
              "                <dd><code>Datafram</code></dd>\n",
              "            </dl>\n",
              "        </div>\n",
              "        \n",
              "            </div>\n",
              "        "
            ]
          },
          "metadata": {},
          "execution_count": 12
        }
      ]
    },
    {
      "cell_type": "markdown",
      "source": [
        "# Read .CSV file format\n",
        "\n"
      ],
      "metadata": {
        "id": "Z7qYHO6HYXah"
      }
    },
    {
      "cell_type": "code",
      "source": [
        "df=spark.read.csv(\"/content/AmazonSalesData.csv\", header= True, inferSchema=True)"
      ],
      "metadata": {
        "id": "_Y7z6r4kX0Ut"
      },
      "execution_count": null,
      "outputs": []
    },
    {
      "cell_type": "code",
      "source": [
        "df.printSchema()"
      ],
      "metadata": {
        "colab": {
          "base_uri": "https://localhost:8080/"
        },
        "id": "pgc3m4x7Zc3Q",
        "outputId": "1bfbe2c3-c217-4a1f-8de4-cdadbd986f12"
      },
      "execution_count": null,
      "outputs": [
        {
          "output_type": "stream",
          "name": "stdout",
          "text": [
            "root\n",
            " |-- Region: string (nullable = true)\n",
            " |-- Country: string (nullable = true)\n",
            " |-- Item Type: string (nullable = true)\n",
            " |-- Sales Channel: string (nullable = true)\n",
            " |-- Order Priority: string (nullable = true)\n",
            " |-- Order Date: string (nullable = true)\n",
            " |-- Order ID: integer (nullable = true)\n",
            " |-- Ship Date: string (nullable = true)\n",
            " |-- Units Sold: integer (nullable = true)\n",
            " |-- Unit Price: double (nullable = true)\n",
            " |-- Unit Cost: double (nullable = true)\n",
            " |-- Total Revenue: double (nullable = true)\n",
            " |-- Total Cost: double (nullable = true)\n",
            " |-- Total Profit: double (nullable = true)\n",
            "\n"
          ]
        }
      ]
    },
    {
      "cell_type": "code",
      "source": [
        "df.show()"
      ],
      "metadata": {
        "colab": {
          "base_uri": "https://localhost:8080/"
        },
        "id": "KdVUYNZ5ZlMU",
        "outputId": "484c2b8f-cb00-4504-b36a-1847c2031c58"
      },
      "execution_count": null,
      "outputs": [
        {
          "output_type": "stream",
          "name": "stdout",
          "text": [
            "+--------------------+--------------------+---------------+-------------+--------------+----------+---------+----------+----------+----------+---------+-------------+----------+------------+\n",
            "|              Region|             Country|      Item Type|Sales Channel|Order Priority|Order Date| Order ID| Ship Date|Units Sold|Unit Price|Unit Cost|Total Revenue|Total Cost|Total Profit|\n",
            "+--------------------+--------------------+---------------+-------------+--------------+----------+---------+----------+----------+----------+---------+-------------+----------+------------+\n",
            "|Australia and Oce...|              Tuvalu|      Baby Food|      Offline|             H| 5/28/2010|669165933| 6/27/2010|      9925|    255.28|   159.42|    2533654.0| 1582243.5|    951410.5|\n",
            "|Central America a...|             Grenada|         Cereal|       Online|             C| 8/22/2012|963881480| 9/15/2012|      2804|     205.7|   117.11|     576782.8| 328376.44|   248406.36|\n",
            "|              Europe|              Russia|Office Supplies|      Offline|             L|  5/2/2014|341417157|  5/8/2014|      1779|    651.21|   524.96|   1158502.59| 933903.84|   224598.75|\n",
            "|  Sub-Saharan Africa|Sao Tome and Prin...|         Fruits|       Online|             C| 6/20/2014|514321792|  7/5/2014|      8102|      9.33|     6.92|     75591.66|  56065.84|    19525.82|\n",
            "|  Sub-Saharan Africa|              Rwanda|Office Supplies|      Offline|             L|  2/1/2013|115456712|  2/6/2013|      5062|    651.21|   524.96|   3296425.02|2657347.52|    639077.5|\n",
            "|Australia and Oce...|     Solomon Islands|      Baby Food|       Online|             C|  2/4/2015|547995746| 2/21/2015|      2974|    255.28|   159.42|    759202.72| 474115.08|   285087.64|\n",
            "|  Sub-Saharan Africa|              Angola|      Household|      Offline|             M| 4/23/2011|135425221| 4/27/2011|      4187|    668.27|   502.54|   2798046.49|2104134.98|   693911.51|\n",
            "|  Sub-Saharan Africa|        Burkina Faso|     Vegetables|       Online|             H| 7/17/2012|871543967| 7/27/2012|      8082|    154.06|    90.93|   1245112.92| 734896.26|   510216.66|\n",
            "|  Sub-Saharan Africa|Republic of the C...|  Personal Care|      Offline|             M| 7/14/2015|770463311| 8/25/2015|      6070|     81.73|    56.67|     496101.1|  343986.9|    152114.2|\n",
            "|  Sub-Saharan Africa|             Senegal|         Cereal|       Online|             H| 4/18/2014|616607081| 5/30/2014|      6593|     205.7|   117.11|    1356180.1| 772106.23|   584073.87|\n",
            "|                Asia|          Kyrgyzstan|     Vegetables|       Online|             H| 6/24/2011|814711606| 7/12/2011|       124|    154.06|    90.93|     19103.44|  11275.32|     7828.12|\n",
            "|  Sub-Saharan Africa|          Cape Verde|        Clothes|      Offline|             H|  8/2/2014|939825713| 8/19/2014|      4168|    109.28|    35.84|    455479.04| 149381.12|   306097.92|\n",
            "|                Asia|          Bangladesh|        Clothes|       Online|             L| 1/13/2017|187310731|  3/1/2017|      8263|    109.28|    35.84|    902980.64| 296145.92|   606834.72|\n",
            "|Central America a...|            Honduras|      Household|      Offline|             H|  2/8/2017|522840487| 2/13/2017|      8974|    668.27|   502.54|   5997054.98|4509793.96|  1487261.02|\n",
            "|                Asia|            Mongolia|  Personal Care|      Offline|             C| 2/19/2014|832401311| 2/23/2014|      4901|     81.73|    56.67|    400558.73| 277739.67|   122819.06|\n",
            "|              Europe|            Bulgaria|        Clothes|       Online|             M| 4/23/2012|972292029|  6/3/2012|      1673|    109.28|    35.84|    182825.44|  59960.32|   122865.12|\n",
            "|                Asia|           Sri Lanka|      Cosmetics|      Offline|             M|11/19/2016|419123971|12/18/2016|      6952|     437.2|   263.33|    3039414.4|1830670.16|  1208744.24|\n",
            "|  Sub-Saharan Africa|            Cameroon|      Beverages|      Offline|             C|  4/1/2015|519820964| 4/18/2015|      5430|     47.45|    31.79|     257653.5|  172619.7|     85033.8|\n",
            "|                Asia|        Turkmenistan|      Household|      Offline|             L|12/30/2010|441619336| 1/20/2011|      3830|    668.27|   502.54|    2559474.1| 1924728.2|    634745.9|\n",
            "|Australia and Oce...|          East Timor|           Meat|       Online|             L| 7/31/2012|322067916| 9/11/2012|      5908|    421.89|   364.69|   2492526.12|2154588.52|    337937.6|\n",
            "+--------------------+--------------------+---------------+-------------+--------------+----------+---------+----------+----------+----------+---------+-------------+----------+------------+\n",
            "only showing top 20 rows\n",
            "\n"
          ]
        }
      ]
    },
    {
      "cell_type": "markdown",
      "source": [
        "# Select Col\n"
      ],
      "metadata": {
        "id": "2ox6QTBFPc9r"
      }
    },
    {
      "cell_type": "code",
      "source": [
        "df.select(col(\"Region\"), col('country')).show()"
      ],
      "metadata": {
        "colab": {
          "base_uri": "https://localhost:8080/"
        },
        "id": "Mp-PfH07ZvST",
        "outputId": "4b3a5d6b-0471-43c8-b58a-63d7f1de5ffe"
      },
      "execution_count": null,
      "outputs": [
        {
          "output_type": "stream",
          "name": "stdout",
          "text": [
            "+--------------------+--------------------+\n",
            "|              Region|             country|\n",
            "+--------------------+--------------------+\n",
            "|Australia and Oce...|              Tuvalu|\n",
            "|Central America a...|             Grenada|\n",
            "|              Europe|              Russia|\n",
            "|  Sub-Saharan Africa|Sao Tome and Prin...|\n",
            "|  Sub-Saharan Africa|              Rwanda|\n",
            "|Australia and Oce...|     Solomon Islands|\n",
            "|  Sub-Saharan Africa|              Angola|\n",
            "|  Sub-Saharan Africa|        Burkina Faso|\n",
            "|  Sub-Saharan Africa|Republic of the C...|\n",
            "|  Sub-Saharan Africa|             Senegal|\n",
            "|                Asia|          Kyrgyzstan|\n",
            "|  Sub-Saharan Africa|          Cape Verde|\n",
            "|                Asia|          Bangladesh|\n",
            "|Central America a...|            Honduras|\n",
            "|                Asia|            Mongolia|\n",
            "|              Europe|            Bulgaria|\n",
            "|                Asia|           Sri Lanka|\n",
            "|  Sub-Saharan Africa|            Cameroon|\n",
            "|                Asia|        Turkmenistan|\n",
            "|Australia and Oce...|          East Timor|\n",
            "+--------------------+--------------------+\n",
            "only showing top 20 rows\n",
            "\n"
          ]
        }
      ]
    },
    {
      "cell_type": "markdown",
      "source": [
        "## Region and country with profit\n"
      ],
      "metadata": {
        "id": "-VUX7hBoVvlY"
      }
    },
    {
      "cell_type": "code",
      "source": [
        "region_and_country_with_profit = df.groupBy(col('Region')).sum('Total Profit')\n",
        "region_and_country_with_profit.show()\n"
      ],
      "metadata": {
        "colab": {
          "base_uri": "https://localhost:8080/"
        },
        "id": "MeFSfyKxQ14w",
        "outputId": "90a94e33-db7d-4d65-8043-3914edbc86c6"
      },
      "execution_count": null,
      "outputs": [
        {
          "output_type": "stream",
          "name": "stdout",
          "text": [
            "+--------------------+--------------------+\n",
            "|              Region|   sum(Total Profit)|\n",
            "+--------------------+--------------------+\n",
            "|Middle East and N...|   5761191.859999999|\n",
            "|Australia and Oce...|          4722160.03|\n",
            "|              Europe|1.1082938629999999E7|\n",
            "|  Sub-Saharan Africa|1.2183211400000004E7|\n",
            "|Central America a...|          2846907.85|\n",
            "|       North America|          1457942.76|\n",
            "|                Asia|          6113845.87|\n",
            "+--------------------+--------------------+\n",
            "\n"
          ]
        }
      ]
    },
    {
      "cell_type": "markdown",
      "source": [
        "## Region with highest profit\n"
      ],
      "metadata": {
        "id": "YfINpvyWV4EE"
      }
    },
    {
      "cell_type": "code",
      "source": [
        "region_with_highest_profit = region_and_country_with_profit.orderBy(\"sum(Total Profit)\", ascending=False).first()\n"
      ],
      "metadata": {
        "id": "_ICwnafBQS1s"
      },
      "execution_count": null,
      "outputs": []
    },
    {
      "cell_type": "markdown",
      "source": [
        "# Region has the highest profit with total profit\n"
      ],
      "metadata": {
        "id": "pBReo_4fWJ2V"
      }
    },
    {
      "cell_type": "code",
      "source": [
        "print(f\"{region_with_highest_profit['Region']} Region has the highest profit with a total profit of {region_with_highest_profit['sum(Total Profit)']}\")"
      ],
      "metadata": {
        "colab": {
          "base_uri": "https://localhost:8080/"
        },
        "id": "dvfTx3_ST3LU",
        "outputId": "99c507ba-7b73-428a-e206-82b411097aba"
      },
      "execution_count": null,
      "outputs": [
        {
          "output_type": "stream",
          "name": "stdout",
          "text": [
            "Sub-Saharan Africa Region has the highest profit with a total profit of 12183211.400000004\n"
          ]
        }
      ]
    },
    {
      "cell_type": "markdown",
      "source": [
        "## Country with highest profit\n"
      ],
      "metadata": {
        "id": "AL1gW-o6WeKb"
      }
    },
    {
      "cell_type": "code",
      "source": [
        "country_with_highest_profit = df.filter(col('Region') == region_with_highest_profit['Region']) \\\n",
        "                                .groupBy(col('Country')).sum('Total Profit') \\\n",
        "                                .orderBy(\"sum(Total Profit)\", ascending=False)\n",
        "country_with_highest_profit.show()"
      ],
      "metadata": {
        "colab": {
          "base_uri": "https://localhost:8080/"
        },
        "id": "XF2f-8rXQVGR",
        "outputId": "69bea4d9-5e55-4372-cbfe-0640245a94b9"
      },
      "execution_count": null,
      "outputs": [
        {
          "output_type": "stream",
          "name": "stdout",
          "text": [
            "+------------+-----------------+\n",
            "|     Country|sum(Total Profit)|\n",
            "+------------+-----------------+\n",
            "|    Djibouti|       2425317.87|\n",
            "|     Myanmar|        1802771.7|\n",
            "|    Pakistan|       1719922.04|\n",
            "|      Samoa |       1678540.98|\n",
            "|    Honduras|       1609947.52|\n",
            "|     Iceland|       1541705.29|\n",
            "|  Azerbaijan|       1512926.83|\n",
            "| Switzerland|       1512729.45|\n",
            "|      Mexico|       1457942.76|\n",
            "|      Rwanda|       1417493.49|\n",
            "|  The Gambia|       1385883.27|\n",
            "|     Romania|        1375311.7|\n",
            "|Turkmenistan|        1267258.4|\n",
            "|   Sri Lanka|       1208744.24|\n",
            "|        Iran|       1128242.43|\n",
            "|   Lithuania|       1046233.75|\n",
            "|      Tuvalu|         951410.5|\n",
            "|  Mozambique|        889472.91|\n",
            "|      Brunei|         846885.0|\n",
            "|      Monaco|        825738.04|\n",
            "+------------+-----------------+\n",
            "only showing top 20 rows\n",
            "\n"
          ]
        }
      ]
    },
    {
      "cell_type": "markdown",
      "source": [
        "## Country under the region has the highest profit"
      ],
      "metadata": {
        "id": "8psaimmCWpfm"
      }
    },
    {
      "cell_type": "code",
      "source": [
        "print(f\"{country_with_highest_profit['Country']} country, under region {region_with_highest_profit['Region']} has the highest profit with a total profit of {country_with_highest_profit['sum(Total Profit)']}\")\n"
      ],
      "metadata": {
        "colab": {
          "base_uri": "https://localhost:8080/"
        },
        "id": "-KzM62jCR-Ys",
        "outputId": "713fdd00-7f0d-42e7-ed33-fa0d1a1dffdf"
      },
      "execution_count": null,
      "outputs": [
        {
          "output_type": "stream",
          "name": "stdout",
          "text": [
            "Djibouti country, under region Sub-Saharan Africa has the highest profit with a total profit of 2425317.87\n"
          ]
        }
      ]
    },
    {
      "cell_type": "markdown",
      "source": [
        "# Window functions"
      ],
      "metadata": {
        "id": "8eHeGqwvW87i"
      }
    },
    {
      "cell_type": "code",
      "source": [
        "from pyspark.sql.window import Window"
      ],
      "metadata": {
        "id": "fKBlstt1vck8"
      },
      "execution_count": null,
      "outputs": []
    },
    {
      "cell_type": "code",
      "source": [
        "df.withColumn('sum of total profit', sum('Total profit').over(Window.orderBy('Region'))).show()"
      ],
      "metadata": {
        "colab": {
          "base_uri": "https://localhost:8080/"
        },
        "id": "pX_jTkUyrSqI",
        "outputId": "2aae753d-756b-45ee-9b04-a9702c79a48d"
      },
      "execution_count": null,
      "outputs": [
        {
          "output_type": "stream",
          "name": "stdout",
          "text": [
            "+--------------------+--------------------+---------------+-------------+--------------+----------+---------+----------+----------+----------+---------+-------------+----------+------------+-------------------+\n",
            "|              Region|             Country|      Item Type|Sales Channel|Order Priority|Order Date| Order ID| Ship Date|Units Sold|Unit Price|Unit Cost|Total Revenue|Total Cost|Total Profit|sum of total profit|\n",
            "+--------------------+--------------------+---------------+-------------+--------------+----------+---------+----------+----------+----------+---------+-------------+----------+------------+-------------------+\n",
            "|                Asia|          Kyrgyzstan|     Vegetables|       Online|             H| 6/24/2011|814711606| 7/12/2011|       124|    154.06|    90.93|     19103.44|  11275.32|     7828.12|         6113845.87|\n",
            "|                Asia|          Bangladesh|        Clothes|       Online|             L| 1/13/2017|187310731|  3/1/2017|      8263|    109.28|    35.84|    902980.64| 296145.92|   606834.72|         6113845.87|\n",
            "|                Asia|            Mongolia|  Personal Care|      Offline|             C| 2/19/2014|832401311| 2/23/2014|      4901|     81.73|    56.67|    400558.73| 277739.67|   122819.06|         6113845.87|\n",
            "|                Asia|           Sri Lanka|      Cosmetics|      Offline|             M|11/19/2016|419123971|12/18/2016|      6952|     437.2|   263.33|    3039414.4|1830670.16|  1208744.24|         6113845.87|\n",
            "|                Asia|        Turkmenistan|      Household|      Offline|             L|12/30/2010|441619336| 1/20/2011|      3830|    668.27|   502.54|    2559474.1| 1924728.2|    634745.9|         6113845.87|\n",
            "|                Asia|             Myanmar|      Household|      Offline|             H| 1/16/2015|177713572|  3/1/2015|      8250|    668.27|   502.54|    5513227.5| 4145955.0|   1367272.5|         6113845.87|\n",
            "|                Asia|              Brunei|Office Supplies|       Online|             L|  4/1/2012|320009267|  5/8/2012|      6708|    651.21|   524.96|   4368316.68|3521431.68|    846885.0|         6113845.87|\n",
            "|                Asia|             Myanmar|        Clothes|       Online|             H|11/14/2015|223359620|11/18/2015|      5930|    109.28|    35.84|     648030.4|  212531.2|    435499.2|         6113845.87|\n",
            "|                Asia|        Turkmenistan|Office Supplies|       Online|             M| 4/23/2013|462405812| 5/20/2013|      5010|    651.21|   524.96|    3262562.1| 2630049.6|    632512.5|         6113845.87|\n",
            "|                Asia|                Laos|     Vegetables|      Offline|             C| 9/15/2011|789176547|10/23/2011|      3732|    154.06|    90.93|    574951.92| 339350.76|   235601.16|         6113845.87|\n",
            "|                Asia|            Malaysia|         Fruits|      Offline|             L|11/11/2011|810711038|12/28/2011|      6267|      9.33|     6.92|     58471.11|  43367.64|    15103.47|         6113845.87|\n",
            "|Australia and Oce...|              Tuvalu|      Baby Food|      Offline|             H| 5/28/2010|669165933| 6/27/2010|      9925|    255.28|   159.42|    2533654.0| 1582243.5|    951410.5|       1.08360059E7|\n",
            "|Australia and Oce...|     Solomon Islands|      Baby Food|       Online|             C|  2/4/2015|547995746| 2/21/2015|      2974|    255.28|   159.42|    759202.72| 474115.08|   285087.64|       1.08360059E7|\n",
            "|Australia and Oce...|          East Timor|           Meat|       Online|             L| 7/31/2012|322067916| 9/11/2012|      5908|    421.89|   364.69|   2492526.12|2154588.52|    337937.6|       1.08360059E7|\n",
            "|Australia and Oce...|         New Zealand|         Fruits|       Online|             H|  9/8/2014|142278373| 10/4/2014|      2187|      9.33|     6.92|     20404.71|  15134.04|     5270.67|       1.08360059E7|\n",
            "|Australia and Oce...|            Kiribati|         Fruits|       Online|             M|10/13/2014|347140347|11/10/2014|      5398|      9.33|     6.92|     50363.34|  37354.16|    13009.18|       1.08360059E7|\n",
            "|Australia and Oce...|           Australia|Office Supplies|       Online|             C|10/27/2015|158535134|11/25/2015|      2924|    651.21|   524.96|   1904138.04|1534983.04|    369155.0|       1.08360059E7|\n",
            "|Australia and Oce...|                Fiji|        Clothes|      Offline|             C| 6/30/2010|647876489|  8/1/2010|      9905|    109.28|    35.84|    1082418.4|  354995.2|    727423.2|       1.08360059E7|\n",
            "|Australia and Oce...|           Australia|         Cereal|      Offline|             H|  6/9/2013|450563752|  7/2/2013|       682|     205.7|   117.11|     140287.4|  79869.02|    60418.38|       1.08360059E7|\n",
            "|Australia and Oce...|Federated States ...|      Beverages|       Online|             C|10/28/2014|217221009|11/15/2014|      9379|     47.45|    31.79|    445033.55| 298158.41|   146875.14|       1.08360059E7|\n",
            "+--------------------+--------------------+---------------+-------------+--------------+----------+---------+----------+----------+----------+---------+-------------+----------+------------+-------------------+\n",
            "only showing top 20 rows\n",
            "\n"
          ]
        }
      ]
    },
    {
      "cell_type": "code",
      "source": [
        "total = df.withColumn('sum of total profit', sum('Total profit').over(Window.partitionBy('Region')))\n",
        "total.show()"
      ],
      "metadata": {
        "colab": {
          "base_uri": "https://localhost:8080/"
        },
        "id": "Bz_P6TK8wI6N",
        "outputId": "2e6c0d8f-9a9b-4278-91e8-e445944a6b5d"
      },
      "execution_count": null,
      "outputs": [
        {
          "output_type": "stream",
          "name": "stdout",
          "text": [
            "+--------------------+--------------------+---------------+-------------+--------------+----------+---------+----------+----------+----------+---------+-------------+----------+------------+-------------------+\n",
            "|              Region|             Country|      Item Type|Sales Channel|Order Priority|Order Date| Order ID| Ship Date|Units Sold|Unit Price|Unit Cost|Total Revenue|Total Cost|Total Profit|sum of total profit|\n",
            "+--------------------+--------------------+---------------+-------------+--------------+----------+---------+----------+----------+----------+---------+-------------+----------+------------+-------------------+\n",
            "|                Asia|          Kyrgyzstan|     Vegetables|       Online|             H| 6/24/2011|814711606| 7/12/2011|       124|    154.06|    90.93|     19103.44|  11275.32|     7828.12|         6113845.87|\n",
            "|                Asia|          Bangladesh|        Clothes|       Online|             L| 1/13/2017|187310731|  3/1/2017|      8263|    109.28|    35.84|    902980.64| 296145.92|   606834.72|         6113845.87|\n",
            "|                Asia|            Mongolia|  Personal Care|      Offline|             C| 2/19/2014|832401311| 2/23/2014|      4901|     81.73|    56.67|    400558.73| 277739.67|   122819.06|         6113845.87|\n",
            "|                Asia|           Sri Lanka|      Cosmetics|      Offline|             M|11/19/2016|419123971|12/18/2016|      6952|     437.2|   263.33|    3039414.4|1830670.16|  1208744.24|         6113845.87|\n",
            "|                Asia|        Turkmenistan|      Household|      Offline|             L|12/30/2010|441619336| 1/20/2011|      3830|    668.27|   502.54|    2559474.1| 1924728.2|    634745.9|         6113845.87|\n",
            "|                Asia|             Myanmar|      Household|      Offline|             H| 1/16/2015|177713572|  3/1/2015|      8250|    668.27|   502.54|    5513227.5| 4145955.0|   1367272.5|         6113845.87|\n",
            "|                Asia|              Brunei|Office Supplies|       Online|             L|  4/1/2012|320009267|  5/8/2012|      6708|    651.21|   524.96|   4368316.68|3521431.68|    846885.0|         6113845.87|\n",
            "|                Asia|             Myanmar|        Clothes|       Online|             H|11/14/2015|223359620|11/18/2015|      5930|    109.28|    35.84|     648030.4|  212531.2|    435499.2|         6113845.87|\n",
            "|                Asia|        Turkmenistan|Office Supplies|       Online|             M| 4/23/2013|462405812| 5/20/2013|      5010|    651.21|   524.96|    3262562.1| 2630049.6|    632512.5|         6113845.87|\n",
            "|                Asia|                Laos|     Vegetables|      Offline|             C| 9/15/2011|789176547|10/23/2011|      3732|    154.06|    90.93|    574951.92| 339350.76|   235601.16|         6113845.87|\n",
            "|                Asia|            Malaysia|         Fruits|      Offline|             L|11/11/2011|810711038|12/28/2011|      6267|      9.33|     6.92|     58471.11|  43367.64|    15103.47|         6113845.87|\n",
            "|Australia and Oce...|              Tuvalu|      Baby Food|      Offline|             H| 5/28/2010|669165933| 6/27/2010|      9925|    255.28|   159.42|    2533654.0| 1582243.5|    951410.5|         4722160.03|\n",
            "|Australia and Oce...|     Solomon Islands|      Baby Food|       Online|             C|  2/4/2015|547995746| 2/21/2015|      2974|    255.28|   159.42|    759202.72| 474115.08|   285087.64|         4722160.03|\n",
            "|Australia and Oce...|          East Timor|           Meat|       Online|             L| 7/31/2012|322067916| 9/11/2012|      5908|    421.89|   364.69|   2492526.12|2154588.52|    337937.6|         4722160.03|\n",
            "|Australia and Oce...|         New Zealand|         Fruits|       Online|             H|  9/8/2014|142278373| 10/4/2014|      2187|      9.33|     6.92|     20404.71|  15134.04|     5270.67|         4722160.03|\n",
            "|Australia and Oce...|            Kiribati|         Fruits|       Online|             M|10/13/2014|347140347|11/10/2014|      5398|      9.33|     6.92|     50363.34|  37354.16|    13009.18|         4722160.03|\n",
            "|Australia and Oce...|           Australia|Office Supplies|       Online|             C|10/27/2015|158535134|11/25/2015|      2924|    651.21|   524.96|   1904138.04|1534983.04|    369155.0|         4722160.03|\n",
            "|Australia and Oce...|                Fiji|        Clothes|      Offline|             C| 6/30/2010|647876489|  8/1/2010|      9905|    109.28|    35.84|    1082418.4|  354995.2|    727423.2|         4722160.03|\n",
            "|Australia and Oce...|           Australia|         Cereal|      Offline|             H|  6/9/2013|450563752|  7/2/2013|       682|     205.7|   117.11|     140287.4|  79869.02|    60418.38|         4722160.03|\n",
            "|Australia and Oce...|Federated States ...|      Beverages|       Online|             C|10/28/2014|217221009|11/15/2014|      9379|     47.45|    31.79|    445033.55| 298158.41|   146875.14|         4722160.03|\n",
            "+--------------------+--------------------+---------------+-------------+--------------+----------+---------+----------+----------+----------+---------+-------------+----------+------------+-------------------+\n",
            "only showing top 20 rows\n",
            "\n"
          ]
        }
      ]
    },
    {
      "cell_type": "code",
      "source": [
        "total.show()"
      ],
      "metadata": {
        "colab": {
          "base_uri": "https://localhost:8080/"
        },
        "id": "2rr9pKof0bi_",
        "outputId": "741b2149-3fb7-48d1-86d2-e56bffa571ff"
      },
      "execution_count": null,
      "outputs": [
        {
          "output_type": "stream",
          "name": "stdout",
          "text": [
            "+--------------------+--------------------+---------------+-------------+--------------+----------+---------+----------+----------+----------+---------+-------------+----------+------------+-------------------+\n",
            "|              Region|             Country|      Item Type|Sales Channel|Order Priority|Order Date| Order ID| Ship Date|Units Sold|Unit Price|Unit Cost|Total Revenue|Total Cost|Total Profit|sum of total profit|\n",
            "+--------------------+--------------------+---------------+-------------+--------------+----------+---------+----------+----------+----------+---------+-------------+----------+------------+-------------------+\n",
            "|                Asia|          Kyrgyzstan|     Vegetables|       Online|             H| 6/24/2011|814711606| 7/12/2011|       124|    154.06|    90.93|     19103.44|  11275.32|     7828.12|         6113845.87|\n",
            "|                Asia|          Bangladesh|        Clothes|       Online|             L| 1/13/2017|187310731|  3/1/2017|      8263|    109.28|    35.84|    902980.64| 296145.92|   606834.72|         6113845.87|\n",
            "|                Asia|            Mongolia|  Personal Care|      Offline|             C| 2/19/2014|832401311| 2/23/2014|      4901|     81.73|    56.67|    400558.73| 277739.67|   122819.06|         6113845.87|\n",
            "|                Asia|           Sri Lanka|      Cosmetics|      Offline|             M|11/19/2016|419123971|12/18/2016|      6952|     437.2|   263.33|    3039414.4|1830670.16|  1208744.24|         6113845.87|\n",
            "|                Asia|        Turkmenistan|      Household|      Offline|             L|12/30/2010|441619336| 1/20/2011|      3830|    668.27|   502.54|    2559474.1| 1924728.2|    634745.9|         6113845.87|\n",
            "|                Asia|             Myanmar|      Household|      Offline|             H| 1/16/2015|177713572|  3/1/2015|      8250|    668.27|   502.54|    5513227.5| 4145955.0|   1367272.5|         6113845.87|\n",
            "|                Asia|              Brunei|Office Supplies|       Online|             L|  4/1/2012|320009267|  5/8/2012|      6708|    651.21|   524.96|   4368316.68|3521431.68|    846885.0|         6113845.87|\n",
            "|                Asia|             Myanmar|        Clothes|       Online|             H|11/14/2015|223359620|11/18/2015|      5930|    109.28|    35.84|     648030.4|  212531.2|    435499.2|         6113845.87|\n",
            "|                Asia|        Turkmenistan|Office Supplies|       Online|             M| 4/23/2013|462405812| 5/20/2013|      5010|    651.21|   524.96|    3262562.1| 2630049.6|    632512.5|         6113845.87|\n",
            "|                Asia|                Laos|     Vegetables|      Offline|             C| 9/15/2011|789176547|10/23/2011|      3732|    154.06|    90.93|    574951.92| 339350.76|   235601.16|         6113845.87|\n",
            "|                Asia|            Malaysia|         Fruits|      Offline|             L|11/11/2011|810711038|12/28/2011|      6267|      9.33|     6.92|     58471.11|  43367.64|    15103.47|         6113845.87|\n",
            "|Australia and Oce...|              Tuvalu|      Baby Food|      Offline|             H| 5/28/2010|669165933| 6/27/2010|      9925|    255.28|   159.42|    2533654.0| 1582243.5|    951410.5|         4722160.03|\n",
            "|Australia and Oce...|     Solomon Islands|      Baby Food|       Online|             C|  2/4/2015|547995746| 2/21/2015|      2974|    255.28|   159.42|    759202.72| 474115.08|   285087.64|         4722160.03|\n",
            "|Australia and Oce...|          East Timor|           Meat|       Online|             L| 7/31/2012|322067916| 9/11/2012|      5908|    421.89|   364.69|   2492526.12|2154588.52|    337937.6|         4722160.03|\n",
            "|Australia and Oce...|         New Zealand|         Fruits|       Online|             H|  9/8/2014|142278373| 10/4/2014|      2187|      9.33|     6.92|     20404.71|  15134.04|     5270.67|         4722160.03|\n",
            "|Australia and Oce...|            Kiribati|         Fruits|       Online|             M|10/13/2014|347140347|11/10/2014|      5398|      9.33|     6.92|     50363.34|  37354.16|    13009.18|         4722160.03|\n",
            "|Australia and Oce...|           Australia|Office Supplies|       Online|             C|10/27/2015|158535134|11/25/2015|      2924|    651.21|   524.96|   1904138.04|1534983.04|    369155.0|         4722160.03|\n",
            "|Australia and Oce...|                Fiji|        Clothes|      Offline|             C| 6/30/2010|647876489|  8/1/2010|      9905|    109.28|    35.84|    1082418.4|  354995.2|    727423.2|         4722160.03|\n",
            "|Australia and Oce...|           Australia|         Cereal|      Offline|             H|  6/9/2013|450563752|  7/2/2013|       682|     205.7|   117.11|     140287.4|  79869.02|    60418.38|         4722160.03|\n",
            "|Australia and Oce...|Federated States ...|      Beverages|       Online|             C|10/28/2014|217221009|11/15/2014|      9379|     47.45|    31.79|    445033.55| 298158.41|   146875.14|         4722160.03|\n",
            "+--------------------+--------------------+---------------+-------------+--------------+----------+---------+----------+----------+----------+---------+-------------+----------+------------+-------------------+\n",
            "only showing top 20 rows\n",
            "\n"
          ]
        }
      ]
    },
    {
      "cell_type": "code",
      "source": [
        "df.show()"
      ],
      "metadata": {
        "colab": {
          "base_uri": "https://localhost:8080/"
        },
        "id": "rUj92cNR_BM1",
        "outputId": "0b47ea26-1677-4284-d64e-134a0866325b"
      },
      "execution_count": null,
      "outputs": [
        {
          "output_type": "stream",
          "name": "stdout",
          "text": [
            "+--------------------+--------------------+---------------+-------------+--------------+----------+---------+----------+----------+----------+---------+-------------+----------+------------+\n",
            "|              Region|             Country|      Item Type|Sales Channel|Order Priority|Order Date| Order ID| Ship Date|Units Sold|Unit Price|Unit Cost|Total Revenue|Total Cost|Total Profit|\n",
            "+--------------------+--------------------+---------------+-------------+--------------+----------+---------+----------+----------+----------+---------+-------------+----------+------------+\n",
            "|Australia and Oce...|              Tuvalu|      Baby Food|      Offline|             H| 5/28/2010|669165933| 6/27/2010|      9925|    255.28|   159.42|    2533654.0| 1582243.5|    951410.5|\n",
            "|Central America a...|             Grenada|         Cereal|       Online|             C| 8/22/2012|963881480| 9/15/2012|      2804|     205.7|   117.11|     576782.8| 328376.44|   248406.36|\n",
            "|              Europe|              Russia|Office Supplies|      Offline|             L|  5/2/2014|341417157|  5/8/2014|      1779|    651.21|   524.96|   1158502.59| 933903.84|   224598.75|\n",
            "|  Sub-Saharan Africa|Sao Tome and Prin...|         Fruits|       Online|             C| 6/20/2014|514321792|  7/5/2014|      8102|      9.33|     6.92|     75591.66|  56065.84|    19525.82|\n",
            "|  Sub-Saharan Africa|              Rwanda|Office Supplies|      Offline|             L|  2/1/2013|115456712|  2/6/2013|      5062|    651.21|   524.96|   3296425.02|2657347.52|    639077.5|\n",
            "|Australia and Oce...|     Solomon Islands|      Baby Food|       Online|             C|  2/4/2015|547995746| 2/21/2015|      2974|    255.28|   159.42|    759202.72| 474115.08|   285087.64|\n",
            "|  Sub-Saharan Africa|              Angola|      Household|      Offline|             M| 4/23/2011|135425221| 4/27/2011|      4187|    668.27|   502.54|   2798046.49|2104134.98|   693911.51|\n",
            "|  Sub-Saharan Africa|        Burkina Faso|     Vegetables|       Online|             H| 7/17/2012|871543967| 7/27/2012|      8082|    154.06|    90.93|   1245112.92| 734896.26|   510216.66|\n",
            "|  Sub-Saharan Africa|Republic of the C...|  Personal Care|      Offline|             M| 7/14/2015|770463311| 8/25/2015|      6070|     81.73|    56.67|     496101.1|  343986.9|    152114.2|\n",
            "|  Sub-Saharan Africa|             Senegal|         Cereal|       Online|             H| 4/18/2014|616607081| 5/30/2014|      6593|     205.7|   117.11|    1356180.1| 772106.23|   584073.87|\n",
            "|                Asia|          Kyrgyzstan|     Vegetables|       Online|             H| 6/24/2011|814711606| 7/12/2011|       124|    154.06|    90.93|     19103.44|  11275.32|     7828.12|\n",
            "|  Sub-Saharan Africa|          Cape Verde|        Clothes|      Offline|             H|  8/2/2014|939825713| 8/19/2014|      4168|    109.28|    35.84|    455479.04| 149381.12|   306097.92|\n",
            "|                Asia|          Bangladesh|        Clothes|       Online|             L| 1/13/2017|187310731|  3/1/2017|      8263|    109.28|    35.84|    902980.64| 296145.92|   606834.72|\n",
            "|Central America a...|            Honduras|      Household|      Offline|             H|  2/8/2017|522840487| 2/13/2017|      8974|    668.27|   502.54|   5997054.98|4509793.96|  1487261.02|\n",
            "|                Asia|            Mongolia|  Personal Care|      Offline|             C| 2/19/2014|832401311| 2/23/2014|      4901|     81.73|    56.67|    400558.73| 277739.67|   122819.06|\n",
            "|              Europe|            Bulgaria|        Clothes|       Online|             M| 4/23/2012|972292029|  6/3/2012|      1673|    109.28|    35.84|    182825.44|  59960.32|   122865.12|\n",
            "|                Asia|           Sri Lanka|      Cosmetics|      Offline|             M|11/19/2016|419123971|12/18/2016|      6952|     437.2|   263.33|    3039414.4|1830670.16|  1208744.24|\n",
            "|  Sub-Saharan Africa|            Cameroon|      Beverages|      Offline|             C|  4/1/2015|519820964| 4/18/2015|      5430|     47.45|    31.79|     257653.5|  172619.7|     85033.8|\n",
            "|                Asia|        Turkmenistan|      Household|      Offline|             L|12/30/2010|441619336| 1/20/2011|      3830|    668.27|   502.54|    2559474.1| 1924728.2|    634745.9|\n",
            "|Australia and Oce...|          East Timor|           Meat|       Online|             L| 7/31/2012|322067916| 9/11/2012|      5908|    421.89|   364.69|   2492526.12|2154588.52|    337937.6|\n",
            "+--------------------+--------------------+---------------+-------------+--------------+----------+---------+----------+----------+----------+---------+-------------+----------+------------+\n",
            "only showing top 20 rows\n",
            "\n"
          ]
        }
      ]
    },
    {
      "cell_type": "markdown",
      "source": [
        "## The highest number of orders placed within a 72-hour period"
      ],
      "metadata": {
        "id": "IXJT3yFzXIWo"
      }
    },
    {
      "cell_type": "code",
      "source": [
        "orders = df.groupBy(window(col('Order Date'), '72 hours'))\\\n",
        "         .agg(count('Order ID').alias('count_order_id'))\\\n",
        "         .orderBy('count_order_id', ascending=False)\n",
        "\n",
        "\n",
        "print(f\"Highest number of orders ordered under a 72 hr period is {orders.first()}\")\n"
      ],
      "metadata": {
        "colab": {
          "base_uri": "https://localhost:8080/"
        },
        "id": "7pmDdBkq3IX7",
        "outputId": "a26282df-3faa-4db7-b028-3736908d056b"
      },
      "execution_count": null,
      "outputs": [
        {
          "output_type": "stream",
          "name": "stdout",
          "text": [
            "Highest number of orders ordered under a 72 hr period is None\n"
          ]
        }
      ]
    },
    {
      "cell_type": "markdown",
      "source": [
        "## Average number of units sold in a month"
      ],
      "metadata": {
        "id": "vH4a-5E6XOWe"
      }
    },
    {
      "cell_type": "code",
      "source": [
        "df.groupBy(month('Order Date').alias('month')) \\\n",
        "                   .agg(avg(col('Units Sold')).alias('avg_units_sold')) \\\n",
        "                   .orderBy('avg_units_sold', ascending=False).first()\n"
      ],
      "metadata": {
        "colab": {
          "base_uri": "https://localhost:8080/"
        },
        "id": "Cz8ydd2s5U0U",
        "outputId": "f36a977a-0543-494d-fbd1-f6fcfcd148d0"
      },
      "execution_count": null,
      "outputs": [
        {
          "output_type": "execute_result",
          "data": {
            "text/plain": [
              "Row(month=None, avg_units_sold=5128.71)"
            ]
          },
          "metadata": {},
          "execution_count": 166
        }
      ]
    },
    {
      "cell_type": "markdown",
      "source": [
        "## Margin"
      ],
      "metadata": {
        "id": "dJgfJ2k2Xa_N"
      }
    },
    {
      "cell_type": "code",
      "source": [
        "margin = df.withColumnsRenamed({'Unit Price':'SP','Unit Cost':'CP'})\n",
        "margin.show()\n",
        "\n"
      ],
      "metadata": {
        "colab": {
          "base_uri": "https://localhost:8080/"
        },
        "id": "K-Jg9Wgx8xI5",
        "outputId": "9456e57b-4e8c-4d5d-9bc6-110e698957d5"
      },
      "execution_count": null,
      "outputs": [
        {
          "output_type": "stream",
          "name": "stdout",
          "text": [
            "+--------------------+--------------------+---------------+-------------+--------------+----------+---------+----------+----------+------+------+-------------+----------+------------+\n",
            "|              Region|             Country|      Item Type|Sales Channel|Order Priority|Order Date| Order ID| Ship Date|Units Sold|    SP|    CP|Total Revenue|Total Cost|Total Profit|\n",
            "+--------------------+--------------------+---------------+-------------+--------------+----------+---------+----------+----------+------+------+-------------+----------+------------+\n",
            "|Australia and Oce...|              Tuvalu|      Baby Food|      Offline|             H| 5/28/2010|669165933| 6/27/2010|      9925|255.28|159.42|    2533654.0| 1582243.5|    951410.5|\n",
            "|Central America a...|             Grenada|         Cereal|       Online|             C| 8/22/2012|963881480| 9/15/2012|      2804| 205.7|117.11|     576782.8| 328376.44|   248406.36|\n",
            "|              Europe|              Russia|Office Supplies|      Offline|             L|  5/2/2014|341417157|  5/8/2014|      1779|651.21|524.96|   1158502.59| 933903.84|   224598.75|\n",
            "|  Sub-Saharan Africa|Sao Tome and Prin...|         Fruits|       Online|             C| 6/20/2014|514321792|  7/5/2014|      8102|  9.33|  6.92|     75591.66|  56065.84|    19525.82|\n",
            "|  Sub-Saharan Africa|              Rwanda|Office Supplies|      Offline|             L|  2/1/2013|115456712|  2/6/2013|      5062|651.21|524.96|   3296425.02|2657347.52|    639077.5|\n",
            "|Australia and Oce...|     Solomon Islands|      Baby Food|       Online|             C|  2/4/2015|547995746| 2/21/2015|      2974|255.28|159.42|    759202.72| 474115.08|   285087.64|\n",
            "|  Sub-Saharan Africa|              Angola|      Household|      Offline|             M| 4/23/2011|135425221| 4/27/2011|      4187|668.27|502.54|   2798046.49|2104134.98|   693911.51|\n",
            "|  Sub-Saharan Africa|        Burkina Faso|     Vegetables|       Online|             H| 7/17/2012|871543967| 7/27/2012|      8082|154.06| 90.93|   1245112.92| 734896.26|   510216.66|\n",
            "|  Sub-Saharan Africa|Republic of the C...|  Personal Care|      Offline|             M| 7/14/2015|770463311| 8/25/2015|      6070| 81.73| 56.67|     496101.1|  343986.9|    152114.2|\n",
            "|  Sub-Saharan Africa|             Senegal|         Cereal|       Online|             H| 4/18/2014|616607081| 5/30/2014|      6593| 205.7|117.11|    1356180.1| 772106.23|   584073.87|\n",
            "|                Asia|          Kyrgyzstan|     Vegetables|       Online|             H| 6/24/2011|814711606| 7/12/2011|       124|154.06| 90.93|     19103.44|  11275.32|     7828.12|\n",
            "|  Sub-Saharan Africa|          Cape Verde|        Clothes|      Offline|             H|  8/2/2014|939825713| 8/19/2014|      4168|109.28| 35.84|    455479.04| 149381.12|   306097.92|\n",
            "|                Asia|          Bangladesh|        Clothes|       Online|             L| 1/13/2017|187310731|  3/1/2017|      8263|109.28| 35.84|    902980.64| 296145.92|   606834.72|\n",
            "|Central America a...|            Honduras|      Household|      Offline|             H|  2/8/2017|522840487| 2/13/2017|      8974|668.27|502.54|   5997054.98|4509793.96|  1487261.02|\n",
            "|                Asia|            Mongolia|  Personal Care|      Offline|             C| 2/19/2014|832401311| 2/23/2014|      4901| 81.73| 56.67|    400558.73| 277739.67|   122819.06|\n",
            "|              Europe|            Bulgaria|        Clothes|       Online|             M| 4/23/2012|972292029|  6/3/2012|      1673|109.28| 35.84|    182825.44|  59960.32|   122865.12|\n",
            "|                Asia|           Sri Lanka|      Cosmetics|      Offline|             M|11/19/2016|419123971|12/18/2016|      6952| 437.2|263.33|    3039414.4|1830670.16|  1208744.24|\n",
            "|  Sub-Saharan Africa|            Cameroon|      Beverages|      Offline|             C|  4/1/2015|519820964| 4/18/2015|      5430| 47.45| 31.79|     257653.5|  172619.7|     85033.8|\n",
            "|                Asia|        Turkmenistan|      Household|      Offline|             L|12/30/2010|441619336| 1/20/2011|      3830|668.27|502.54|    2559474.1| 1924728.2|    634745.9|\n",
            "|Australia and Oce...|          East Timor|           Meat|       Online|             L| 7/31/2012|322067916| 9/11/2012|      5908|421.89|364.69|   2492526.12|2154588.52|    337937.6|\n",
            "+--------------------+--------------------+---------------+-------------+--------------+----------+---------+----------+----------+------+------+-------------+----------+------------+\n",
            "only showing top 20 rows\n",
            "\n"
          ]
        }
      ]
    },
    {
      "cell_type": "markdown",
      "source": [
        "## Selection of col with margin Df"
      ],
      "metadata": {
        "id": "PaXJYP0HXprg"
      }
    },
    {
      "cell_type": "code",
      "source": [
        "margin.select('order id','SP','CP').show()"
      ],
      "metadata": {
        "colab": {
          "base_uri": "https://localhost:8080/"
        },
        "id": "eS1S6BshA31I",
        "outputId": "1a560db4-a1a8-49cf-b406-e88e46032e50"
      },
      "execution_count": null,
      "outputs": [
        {
          "output_type": "stream",
          "name": "stdout",
          "text": [
            "+---------+------+------+\n",
            "| order id|    SP|    CP|\n",
            "+---------+------+------+\n",
            "|669165933|255.28|159.42|\n",
            "|963881480| 205.7|117.11|\n",
            "|341417157|651.21|524.96|\n",
            "|514321792|  9.33|  6.92|\n",
            "|115456712|651.21|524.96|\n",
            "|547995746|255.28|159.42|\n",
            "|135425221|668.27|502.54|\n",
            "|871543967|154.06| 90.93|\n",
            "|770463311| 81.73| 56.67|\n",
            "|616607081| 205.7|117.11|\n",
            "|814711606|154.06| 90.93|\n",
            "|939825713|109.28| 35.84|\n",
            "|187310731|109.28| 35.84|\n",
            "|522840487|668.27|502.54|\n",
            "|832401311| 81.73| 56.67|\n",
            "|972292029|109.28| 35.84|\n",
            "|419123971| 437.2|263.33|\n",
            "|519820964| 47.45| 31.79|\n",
            "|441619336|668.27|502.54|\n",
            "|322067916|421.89|364.69|\n",
            "+---------+------+------+\n",
            "only showing top 20 rows\n",
            "\n"
          ]
        }
      ]
    },
    {
      "cell_type": "markdown",
      "source": [
        "## Margin Percentage"
      ],
      "metadata": {
        "id": "oDbK1tusXyK0"
      }
    },
    {
      "cell_type": "code",
      "source": [
        "margin_percentage = margin.withColumn(\"Percentage\", round(((col('SP') - col('CP')) / col('SP')) * 100))\n",
        "margin_percentage.show()"
      ],
      "metadata": {
        "colab": {
          "base_uri": "https://localhost:8080/"
        },
        "id": "bBhDXfv6Be6w",
        "outputId": "cfe854f1-e427-44f5-e92c-1876577fb125"
      },
      "execution_count": null,
      "outputs": [
        {
          "output_type": "stream",
          "name": "stdout",
          "text": [
            "+--------------------+--------------------+---------------+-------------+--------------+----------+---------+----------+----------+------+------+-------------+----------+------------+----------+\n",
            "|              Region|             Country|      Item Type|Sales Channel|Order Priority|Order Date| Order ID| Ship Date|Units Sold|    SP|    CP|Total Revenue|Total Cost|Total Profit|Percentage|\n",
            "+--------------------+--------------------+---------------+-------------+--------------+----------+---------+----------+----------+------+------+-------------+----------+------------+----------+\n",
            "|Australia and Oce...|              Tuvalu|      Baby Food|      Offline|             H| 5/28/2010|669165933| 6/27/2010|      9925|255.28|159.42|    2533654.0| 1582243.5|    951410.5|      38.0|\n",
            "|Central America a...|             Grenada|         Cereal|       Online|             C| 8/22/2012|963881480| 9/15/2012|      2804| 205.7|117.11|     576782.8| 328376.44|   248406.36|      43.0|\n",
            "|              Europe|              Russia|Office Supplies|      Offline|             L|  5/2/2014|341417157|  5/8/2014|      1779|651.21|524.96|   1158502.59| 933903.84|   224598.75|      19.0|\n",
            "|  Sub-Saharan Africa|Sao Tome and Prin...|         Fruits|       Online|             C| 6/20/2014|514321792|  7/5/2014|      8102|  9.33|  6.92|     75591.66|  56065.84|    19525.82|      26.0|\n",
            "|  Sub-Saharan Africa|              Rwanda|Office Supplies|      Offline|             L|  2/1/2013|115456712|  2/6/2013|      5062|651.21|524.96|   3296425.02|2657347.52|    639077.5|      19.0|\n",
            "|Australia and Oce...|     Solomon Islands|      Baby Food|       Online|             C|  2/4/2015|547995746| 2/21/2015|      2974|255.28|159.42|    759202.72| 474115.08|   285087.64|      38.0|\n",
            "|  Sub-Saharan Africa|              Angola|      Household|      Offline|             M| 4/23/2011|135425221| 4/27/2011|      4187|668.27|502.54|   2798046.49|2104134.98|   693911.51|      25.0|\n",
            "|  Sub-Saharan Africa|        Burkina Faso|     Vegetables|       Online|             H| 7/17/2012|871543967| 7/27/2012|      8082|154.06| 90.93|   1245112.92| 734896.26|   510216.66|      41.0|\n",
            "|  Sub-Saharan Africa|Republic of the C...|  Personal Care|      Offline|             M| 7/14/2015|770463311| 8/25/2015|      6070| 81.73| 56.67|     496101.1|  343986.9|    152114.2|      31.0|\n",
            "|  Sub-Saharan Africa|             Senegal|         Cereal|       Online|             H| 4/18/2014|616607081| 5/30/2014|      6593| 205.7|117.11|    1356180.1| 772106.23|   584073.87|      43.0|\n",
            "|                Asia|          Kyrgyzstan|     Vegetables|       Online|             H| 6/24/2011|814711606| 7/12/2011|       124|154.06| 90.93|     19103.44|  11275.32|     7828.12|      41.0|\n",
            "|  Sub-Saharan Africa|          Cape Verde|        Clothes|      Offline|             H|  8/2/2014|939825713| 8/19/2014|      4168|109.28| 35.84|    455479.04| 149381.12|   306097.92|      67.0|\n",
            "|                Asia|          Bangladesh|        Clothes|       Online|             L| 1/13/2017|187310731|  3/1/2017|      8263|109.28| 35.84|    902980.64| 296145.92|   606834.72|      67.0|\n",
            "|Central America a...|            Honduras|      Household|      Offline|             H|  2/8/2017|522840487| 2/13/2017|      8974|668.27|502.54|   5997054.98|4509793.96|  1487261.02|      25.0|\n",
            "|                Asia|            Mongolia|  Personal Care|      Offline|             C| 2/19/2014|832401311| 2/23/2014|      4901| 81.73| 56.67|    400558.73| 277739.67|   122819.06|      31.0|\n",
            "|              Europe|            Bulgaria|        Clothes|       Online|             M| 4/23/2012|972292029|  6/3/2012|      1673|109.28| 35.84|    182825.44|  59960.32|   122865.12|      67.0|\n",
            "|                Asia|           Sri Lanka|      Cosmetics|      Offline|             M|11/19/2016|419123971|12/18/2016|      6952| 437.2|263.33|    3039414.4|1830670.16|  1208744.24|      40.0|\n",
            "|  Sub-Saharan Africa|            Cameroon|      Beverages|      Offline|             C|  4/1/2015|519820964| 4/18/2015|      5430| 47.45| 31.79|     257653.5|  172619.7|     85033.8|      33.0|\n",
            "|                Asia|        Turkmenistan|      Household|      Offline|             L|12/30/2010|441619336| 1/20/2011|      3830|668.27|502.54|    2559474.1| 1924728.2|    634745.9|      25.0|\n",
            "|Australia and Oce...|          East Timor|           Meat|       Online|             L| 7/31/2012|322067916| 9/11/2012|      5908|421.89|364.69|   2492526.12|2154588.52|    337937.6|      14.0|\n",
            "+--------------------+--------------------+---------------+-------------+--------------+----------+---------+----------+----------+------+------+-------------+----------+------------+----------+\n",
            "only showing top 20 rows\n",
            "\n"
          ]
        }
      ]
    },
    {
      "cell_type": "markdown",
      "source": [
        "## Lowest and Highest of margin percentage"
      ],
      "metadata": {
        "id": "zZyDxfwZX2o2"
      }
    },
    {
      "cell_type": "code",
      "source": [
        "lowest_margin_percentage = margin_percentage.orderBy('Percentage', ascending=True)\n",
        "highest_margin_percentage = margin_percentage.orderBy('Percentage', ascending=False)\n",
        "lowest_margin_percentage.show(10)\n",
        "highest_margin_percentage.show(10)"
      ],
      "metadata": {
        "colab": {
          "base_uri": "https://localhost:8080/"
        },
        "id": "81R2juuHBjt_",
        "outputId": "c0fe5432-bb6a-456d-c70f-95a23abf08ae"
      },
      "execution_count": null,
      "outputs": [
        {
          "output_type": "stream",
          "name": "stdout",
          "text": [
            "+--------------------+------------+---------------+-------------+--------------+----------+---------+----------+----------+------+------+-------------+----------+------------+----------+\n",
            "|              Region|     Country|      Item Type|Sales Channel|Order Priority|Order Date| Order ID| Ship Date|Units Sold|    SP|    CP|Total Revenue|Total Cost|Total Profit|Percentage|\n",
            "+--------------------+------------+---------------+-------------+--------------+----------+---------+----------+----------+------+------+-------------+----------+------------+----------+\n",
            "|Australia and Oce...|  East Timor|           Meat|       Online|             L| 7/31/2012|322067916| 9/11/2012|      5908|421.89|364.69|   2492526.12|2154588.52|    337937.6|      14.0|\n",
            "|  Sub-Saharan Africa|  The Gambia|           Meat|       Online|             M| 1/14/2017|825304400| 1/23/2017|      4767|421.89|364.69|   2011149.63|1738477.23|    272672.4|      14.0|\n",
            "|              Europe|      Russia|Office Supplies|      Offline|             L|  5/2/2014|341417157|  5/8/2014|      1779|651.21|524.96|   1158502.59| 933903.84|   224598.75|      19.0|\n",
            "|  Sub-Saharan Africa|      Rwanda|Office Supplies|      Offline|             L|  2/1/2013|115456712|  2/6/2013|      5062|651.21|524.96|   3296425.02|2657347.52|    639077.5|      19.0|\n",
            "|  Sub-Saharan Africa|  Mauritania|Office Supplies|      Offline|             C| 1/11/2012|837559306| 1/13/2012|      1266|651.21|524.96|    824431.86| 664599.36|    159832.5|      19.0|\n",
            "|Australia and Oce...|   Australia|Office Supplies|       Online|             C|10/27/2015|158535134|11/25/2015|      2924|651.21|524.96|   1904138.04|1534983.04|    369155.0|      19.0|\n",
            "|                Asia|      Brunei|Office Supplies|       Online|             L|  4/1/2012|320009267|  5/8/2012|      6708|651.21|524.96|   4368316.68|3521431.68|    846885.0|      19.0|\n",
            "|              Europe|    Bulgaria|Office Supplies|       Online|             M| 2/16/2012|189965903| 2/28/2012|      3987|651.21|524.96|   2596374.27|2093015.52|   503358.75|      19.0|\n",
            "|  Sub-Saharan Africa|Sierra Leone|Office Supplies|      Offline|             M|11/26/2011|441888415|  1/7/2012|      3457|651.21|524.96|   2251232.97|1814786.72|   436446.25|      19.0|\n",
            "|  Sub-Saharan Africa|    Cameroon|Office Supplies|       Online|             M| 11/7/2011|177636754|11/15/2011|      5518|651.21|524.96|   3593376.78|2896729.28|    696647.5|      19.0|\n",
            "+--------------------+------------+---------------+-------------+--------------+----------+---------+----------+----------+------+------+-------------+----------+------------+----------+\n",
            "only showing top 10 rows\n",
            "\n",
            "+--------------------+-------------+---------+-------------+--------------+----------+---------+----------+----------+------+-----+-------------+----------+------------+----------+\n",
            "|              Region|      Country|Item Type|Sales Channel|Order Priority|Order Date| Order ID| Ship Date|Units Sold|    SP|   CP|Total Revenue|Total Cost|Total Profit|Percentage|\n",
            "+--------------------+-------------+---------+-------------+--------------+----------+---------+----------+----------+------+-----+-------------+----------+------------+----------+\n",
            "|  Sub-Saharan Africa|   Cape Verde|  Clothes|      Offline|             H|  8/2/2014|939825713| 8/19/2014|      4168|109.28|35.84|    455479.04| 149381.12|   306097.92|      67.0|\n",
            "|                Asia|   Bangladesh|  Clothes|       Online|             L| 1/13/2017|187310731|  3/1/2017|      8263|109.28|35.84|    902980.64| 296145.92|   606834.72|      67.0|\n",
            "|              Europe|     Bulgaria|  Clothes|       Online|             M| 4/23/2012|972292029|  6/3/2012|      1673|109.28|35.84|    182825.44|  59960.32|   122865.12|      67.0|\n",
            "|              Europe|      Albania|  Clothes|       Online|             C|  2/2/2010|385383069| 3/18/2010|      2269|109.28|35.84|    247956.32|  81320.96|   166635.36|      67.0|\n",
            "|                Asia|      Myanmar|  Clothes|       Online|             H|11/14/2015|223359620|11/18/2015|      5930|109.28|35.84|     648030.4|  212531.2|    435499.2|      67.0|\n",
            "|              Europe|    Macedonia|  Clothes|      Offline|             C|10/14/2014|787399423|11/14/2014|      7842|109.28|35.84|    856973.76| 281057.28|   575916.48|      67.0|\n",
            "|  Sub-Saharan Africa|Cote d'Ivoire|  Clothes|       Online|             C|  6/8/2012|114606559| 6/27/2012|      3482|109.28|35.84|    380512.96| 124794.88|   255718.08|      67.0|\n",
            "|Australia and Oce...|         Fiji|  Clothes|      Offline|             C| 6/30/2010|647876489|  8/1/2010|      9905|109.28|35.84|    1082418.4|  354995.2|    727423.2|      67.0|\n",
            "|Middle East and N...|        Libya|  Clothes|      Offline|             H|10/30/2010|705784308|11/17/2010|      6116|109.28|35.84|    668356.48| 219197.44|   449159.04|      67.0|\n",
            "|Central America a...|       Belize|  Clothes|      Offline|             M| 7/25/2016|807025039|  9/7/2016|      5498|109.28|35.84|    600821.44| 197048.32|   403773.12|      67.0|\n",
            "+--------------------+-------------+---------+-------------+--------------+----------+---------+----------+----------+------+-----+-------------+----------+------------+----------+\n",
            "only showing top 10 rows\n",
            "\n"
          ]
        }
      ]
    },
    {
      "cell_type": "code",
      "source": [
        "df.show()"
      ],
      "metadata": {
        "colab": {
          "base_uri": "https://localhost:8080/"
        },
        "id": "imzJ5QV_Ftkp",
        "outputId": "4cf5171f-359b-41dd-d5c2-487476325eba"
      },
      "execution_count": null,
      "outputs": [
        {
          "output_type": "stream",
          "name": "stdout",
          "text": [
            "+--------------------+--------------------+---------------+-------------+--------------+----------+---------+----------+----------+----------+---------+-------------+----------+------------+\n",
            "|              Region|             Country|      Item Type|Sales Channel|Order Priority|Order Date| Order ID| Ship Date|Units Sold|Unit Price|Unit Cost|Total Revenue|Total Cost|Total Profit|\n",
            "+--------------------+--------------------+---------------+-------------+--------------+----------+---------+----------+----------+----------+---------+-------------+----------+------------+\n",
            "|Australia and Oce...|              Tuvalu|      Baby Food|      Offline|             H| 5/28/2010|669165933| 6/27/2010|      9925|    255.28|   159.42|    2533654.0| 1582243.5|    951410.5|\n",
            "|Central America a...|             Grenada|         Cereal|       Online|             C| 8/22/2012|963881480| 9/15/2012|      2804|     205.7|   117.11|     576782.8| 328376.44|   248406.36|\n",
            "|              Europe|              Russia|Office Supplies|      Offline|             L|  5/2/2014|341417157|  5/8/2014|      1779|    651.21|   524.96|   1158502.59| 933903.84|   224598.75|\n",
            "|  Sub-Saharan Africa|Sao Tome and Prin...|         Fruits|       Online|             C| 6/20/2014|514321792|  7/5/2014|      8102|      9.33|     6.92|     75591.66|  56065.84|    19525.82|\n",
            "|  Sub-Saharan Africa|              Rwanda|Office Supplies|      Offline|             L|  2/1/2013|115456712|  2/6/2013|      5062|    651.21|   524.96|   3296425.02|2657347.52|    639077.5|\n",
            "|Australia and Oce...|     Solomon Islands|      Baby Food|       Online|             C|  2/4/2015|547995746| 2/21/2015|      2974|    255.28|   159.42|    759202.72| 474115.08|   285087.64|\n",
            "|  Sub-Saharan Africa|              Angola|      Household|      Offline|             M| 4/23/2011|135425221| 4/27/2011|      4187|    668.27|   502.54|   2798046.49|2104134.98|   693911.51|\n",
            "|  Sub-Saharan Africa|        Burkina Faso|     Vegetables|       Online|             H| 7/17/2012|871543967| 7/27/2012|      8082|    154.06|    90.93|   1245112.92| 734896.26|   510216.66|\n",
            "|  Sub-Saharan Africa|Republic of the C...|  Personal Care|      Offline|             M| 7/14/2015|770463311| 8/25/2015|      6070|     81.73|    56.67|     496101.1|  343986.9|    152114.2|\n",
            "|  Sub-Saharan Africa|             Senegal|         Cereal|       Online|             H| 4/18/2014|616607081| 5/30/2014|      6593|     205.7|   117.11|    1356180.1| 772106.23|   584073.87|\n",
            "|                Asia|          Kyrgyzstan|     Vegetables|       Online|             H| 6/24/2011|814711606| 7/12/2011|       124|    154.06|    90.93|     19103.44|  11275.32|     7828.12|\n",
            "|  Sub-Saharan Africa|          Cape Verde|        Clothes|      Offline|             H|  8/2/2014|939825713| 8/19/2014|      4168|    109.28|    35.84|    455479.04| 149381.12|   306097.92|\n",
            "|                Asia|          Bangladesh|        Clothes|       Online|             L| 1/13/2017|187310731|  3/1/2017|      8263|    109.28|    35.84|    902980.64| 296145.92|   606834.72|\n",
            "|Central America a...|            Honduras|      Household|      Offline|             H|  2/8/2017|522840487| 2/13/2017|      8974|    668.27|   502.54|   5997054.98|4509793.96|  1487261.02|\n",
            "|                Asia|            Mongolia|  Personal Care|      Offline|             C| 2/19/2014|832401311| 2/23/2014|      4901|     81.73|    56.67|    400558.73| 277739.67|   122819.06|\n",
            "|              Europe|            Bulgaria|        Clothes|       Online|             M| 4/23/2012|972292029|  6/3/2012|      1673|    109.28|    35.84|    182825.44|  59960.32|   122865.12|\n",
            "|                Asia|           Sri Lanka|      Cosmetics|      Offline|             M|11/19/2016|419123971|12/18/2016|      6952|     437.2|   263.33|    3039414.4|1830670.16|  1208744.24|\n",
            "|  Sub-Saharan Africa|            Cameroon|      Beverages|      Offline|             C|  4/1/2015|519820964| 4/18/2015|      5430|     47.45|    31.79|     257653.5|  172619.7|     85033.8|\n",
            "|                Asia|        Turkmenistan|      Household|      Offline|             L|12/30/2010|441619336| 1/20/2011|      3830|    668.27|   502.54|    2559474.1| 1924728.2|    634745.9|\n",
            "|Australia and Oce...|          East Timor|           Meat|       Online|             L| 7/31/2012|322067916| 9/11/2012|      5908|    421.89|   364.69|   2492526.12|2154588.52|    337937.6|\n",
            "+--------------------+--------------------+---------------+-------------+--------------+----------+---------+----------+----------+----------+---------+-------------+----------+------------+\n",
            "only showing top 20 rows\n",
            "\n"
          ]
        }
      ]
    },
    {
      "cell_type": "markdown",
      "source": [
        "## Top 3 highest-value order for a specific Item type"
      ],
      "metadata": {
        "id": "q6IaRLNXYTx9"
      }
    },
    {
      "cell_type": "code",
      "source": [
        "window_spec = Window.partitionBy(col('Item Type')).orderBy(col('Total Profit').desc())\n",
        "highest_valuable_orders = df.withColumn(\"row_id\", row_number().over(window_spec)) \\\n",
        "                            .filter(col('row_id').isin(1, 2, 3))\n",
        "\n",
        "highest_valuable_orders.show(15)"
      ],
      "metadata": {
        "colab": {
          "base_uri": "https://localhost:8080/"
        },
        "id": "z_F-TPdiFRub",
        "outputId": "c4c5b2bd-36b5-40ae-9dc9-bc2125d2c401"
      },
      "execution_count": null,
      "outputs": [
        {
          "output_type": "stream",
          "name": "stdout",
          "text": [
            "+--------------------+--------------------+---------+-------------+--------------+----------+---------+----------+----------+----------+---------+-------------+----------+------------+------+\n",
            "|              Region|             Country|Item Type|Sales Channel|Order Priority|Order Date| Order ID| Ship Date|Units Sold|Unit Price|Unit Cost|Total Revenue|Total Cost|Total Profit|row_id|\n",
            "+--------------------+--------------------+---------+-------------+--------------+----------+---------+----------+----------+----------+---------+-------------+----------+------------+------+\n",
            "|Australia and Oce...|              Tuvalu|Baby Food|      Offline|             H| 5/28/2010|669165933| 6/27/2010|      9925|    255.28|   159.42|    2533654.0| 1582243.5|    951410.5|     1|\n",
            "|              Europe|              Monaco|Baby Food|      Offline|             H| 5/29/2012|688288152|  6/2/2012|      8614|    255.28|   159.42|   2198981.92|1373243.88|   825738.04|     2|\n",
            "|              Europe|              Norway|Baby Food|       Online|             L| 5/14/2014|819028031| 6/28/2014|      7450|    255.28|   159.42|    1901836.0| 1187679.0|    714157.0|     3|\n",
            "|Australia and Oce...|           Australia|Beverages|      Offline|             H|  7/7/2014|240470397| 7/11/2014|      9389|     47.45|    31.79|    445508.05| 298476.31|   147031.74|     1|\n",
            "|Australia and Oce...|Federated States ...|Beverages|       Online|             C|10/28/2014|217221009|11/15/2014|      9379|     47.45|    31.79|    445033.55| 298158.41|   146875.14|     2|\n",
            "|  Sub-Saharan Africa|Sao Tome and Prin...|Beverages|      Offline|             C| 1/16/2011|180283772| 1/21/2011|      8829|     47.45|    31.79|    418936.05| 280673.91|   138262.14|     3|\n",
            "|  Sub-Saharan Africa|            Djibouti|   Cereal|       Online|             H| 5/20/2017|555990016| 6/17/2017|      8656|     205.7|   117.11|    1780539.2|1013704.16|   766835.04|     1|\n",
            "|  Sub-Saharan Africa|             Senegal|   Cereal|       Online|             H| 4/18/2014|616607081| 5/30/2014|      6593|     205.7|   117.11|    1356180.1| 772106.23|   584073.87|     2|\n",
            "|Middle East and N...|        Saudi Arabia|   Cereal|       Online|             M| 3/25/2013|844530045| 3/28/2013|      4063|     205.7|   117.11|     835759.1| 475817.93|   359941.17|     3|\n",
            "|Australia and Oce...|                Fiji|  Clothes|      Offline|             C| 6/30/2010|647876489|  8/1/2010|      9905|    109.28|    35.84|    1082418.4|  354995.2|    727423.2|     1|\n",
            "|                Asia|          Bangladesh|  Clothes|       Online|             L| 1/13/2017|187310731|  3/1/2017|      8263|    109.28|    35.84|    902980.64| 296145.92|   606834.72|     2|\n",
            "|Middle East and N...|             Lebanon|  Clothes|       Online|             L| 9/18/2012|663110148| 10/8/2012|      7884|    109.28|    35.84|    861563.52| 282562.56|   579000.96|     3|\n",
            "|Middle East and N...|            Pakistan|Cosmetics|      Offline|             L|  7/5/2013|231145322| 8/16/2013|      9892|     437.2|   263.33|    4324782.4|2604860.36|  1719922.04|     1|\n",
            "|Australia and Oce...|              Samoa |Cosmetics|       Online|             H| 7/20/2013|670854651|  8/7/2013|      9654|     437.2|   263.33|    4220728.8|2542187.82|  1678540.98|     2|\n",
            "|              Europe|             Iceland|Cosmetics|       Online|             C|12/31/2016|331438481|12/31/2016|      8867|     437.2|   263.33|    3876652.4|2334947.11|  1541705.29|     3|\n",
            "+--------------------+--------------------+---------+-------------+--------------+----------+---------+----------+----------+----------+---------+-------------+----------+------------+------+\n",
            "only showing top 15 rows\n",
            "\n"
          ]
        }
      ]
    },
    {
      "cell_type": "markdown",
      "source": [
        "## Item mostly frequently sold on weekends"
      ],
      "metadata": {
        "id": "kD11U-amYm12"
      }
    },
    {
      "cell_type": "code",
      "source": [
        "Item_most_frequently_sold = df.filter((col(\"Region\")==\"Sub-Saharan Africa\") & (weekday(col(\"Ship Date\"))).isin([5,6]))\\\n",
        "                            .groupBy(col(\"Item Type\")).agg(sum('units sold').alias(\"sum_units_sold\"))\\\n",
        "                            .orderBy(\"sum_units_sold\",ascending=False).first()\n"
      ],
      "metadata": {
        "id": "N8hFGLZtHLyE"
      },
      "execution_count": null,
      "outputs": []
    },
    {
      "cell_type": "markdown",
      "source": [
        "## Revenue by year"
      ],
      "metadata": {
        "id": "lZBYWE0OY8I4"
      }
    },
    {
      "cell_type": "code",
      "source": [
        "revenue_by_year = df.groupBy(year(col(\"Order Date\")).alias(\"Year\")) \\\n",
        "                     .agg(sum(\"Total Revenue\").alias(\"Yearly Revenue\"))\n",
        "\n",
        "revenue_by_year.show()\n"
      ],
      "metadata": {
        "colab": {
          "base_uri": "https://localhost:8080/"
        },
        "id": "ZY-k7j7JY73n",
        "outputId": "85ebb7ca-f348-460c-a8c6-a5835df6e7e3"
      },
      "execution_count": null,
      "outputs": [
        {
          "output_type": "stream",
          "name": "stdout",
          "text": [
            "+----+--------------------+\n",
            "|Year|      Yearly Revenue|\n",
            "+----+--------------------+\n",
            "|NULL|1.3734876830999997E8|\n",
            "+----+--------------------+\n",
            "\n"
          ]
        }
      ]
    },
    {
      "cell_type": "code",
      "source": [
        "windowSpec = Window.orderBy(\"Year\")\n",
        "revenue_with_growth = revenue_by_year.withColumn(\"YoY Growth %\",concat(round(((col(\"Yearly Revenue\") - lag(\"Yearly Revenue\", 1).over(windowSpec)) /\n",
        "                                                                              lag(\"Yearly Revenue\", 1).over(windowSpec))*100).cast(\"int\").cast(\"string\"),lit(\" %\")))\n",
        "revenue_with_growth.show()"
      ],
      "metadata": {
        "colab": {
          "base_uri": "https://localhost:8080/"
        },
        "id": "ozP9y82NL5bh",
        "outputId": "80abe5e7-34df-44c1-ac6d-f9f690dd7fec"
      },
      "execution_count": null,
      "outputs": [
        {
          "output_type": "stream",
          "name": "stdout",
          "text": [
            "+----+--------------------+------------+\n",
            "|Year|      Yearly Revenue|YoY Growth %|\n",
            "+----+--------------------+------------+\n",
            "|NULL|1.3734876830999997E8|        NULL|\n",
            "+----+--------------------+------------+\n",
            "\n"
          ]
        }
      ]
    },
    {
      "cell_type": "code",
      "source": [
        "df.write.format('parquet').mode('append').save(\"/content/AmazonSalesDataNotebook.csv\")"
      ],
      "metadata": {
        "id": "ieVafl_LaVD-"
      },
      "execution_count": null,
      "outputs": []
    },
    {
      "cell_type": "code",
      "source": [
        "from google.colab import drive\n",
        "drive.mount('/content/drive')"
      ],
      "metadata": {
        "id": "iN9LYAMpeDNf"
      },
      "execution_count": null,
      "outputs": []
    }
  ]
}